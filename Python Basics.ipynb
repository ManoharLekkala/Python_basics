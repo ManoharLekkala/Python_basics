{
 "cells": [
  {
   "cell_type": "code",
   "execution_count": 1,
   "metadata": {},
   "outputs": [
    {
     "data": {
      "text/plain": [
       "'I am Manohar'"
      ]
     },
     "execution_count": 1,
     "metadata": {},
     "output_type": "execute_result"
    }
   ],
   "source": [
    "'I am Manohar' # printing of name"
   ]
  },
  {
   "cell_type": "code",
   "execution_count": 1,
   "metadata": {},
   "outputs": [
    {
     "name": "stdout",
     "output_type": "stream",
     "text": [
      "  /\\  \n",
      " /  \\ \n",
      "/____\\ \n",
      " ____\n",
      "|____|\n"
     ]
    }
   ],
   "source": [
    "# shapes using Python\n",
    "print(\"  /\\  \")\n",
    "print(\" /  \\ \")\n",
    "print(\"/____\\ \") \n",
    "\n",
    "print(\" ____\")\n",
    "print(\"|____|\")\n"
   ]
  },
  {
   "cell_type": "code",
   "execution_count": 12,
   "metadata": {},
   "outputs": [
    {
     "name": "stdout",
     "output_type": "stream",
     "text": [
      "My name is Madhav,\n",
      "I am 22.5 years old \n",
      "I am currently doing my Bachelors degree in EEE engineering \n"
     ]
    }
   ],
   "source": [
    "# Variables It is a container where we can store data values \n",
    "# We can change the data value by assigning that particular data value to the variable  \n",
    "# It gives data to computer for processing\n",
    "name = 'Madhav'\n",
    "age = '22.5'\n",
    "print(\"My name is \" + name + \",\")\n",
    "print(\"I am \" + age + \" years old \")\n",
    "branch = 'EEE'\n",
    "print(\"I am currently doing my Bachelors degree in \" + branch +  \" engineering \")"
   ]
  },
  {
   "cell_type": "code",
   "execution_count": 35,
   "metadata": {},
   "outputs": [
    {
     "name": "stdout",
     "output_type": "stream",
     "text": [
      "My name is Manohar Lekkala \n",
      "MANOHAR LEKKALA \n",
      "False\n",
      "16\n",
      "n\n",
      "8\n",
      "My name's MANOHAR Lekkala\n"
     ]
    }
   ],
   "source": [
    "# STRING : It is a sequence of characters\n",
    "\n",
    "# Appending(combining) one string with another string is called Concatenation\n",
    "# common functions in strings:\n",
    "\n",
    "phrase = 'Manohar Lekkala '\n",
    "\n",
    "print(\"My name is \" + phrase + \"\")\n",
    "print(phrase.upper()) # upper for capital and lower for small letters\n",
    "print(phrase.upper().islower()) \n",
    "# isupper and islower verifies if the data value is fullly capital or small\n",
    "\n",
    "print(len(phrase.upper()))\n",
    "# len function determine the character length in the data value\n",
    "print(phrase[2]) # variable(n) determines the character present in the string\n",
    "\n",
    "# Index function finds the position of substring \n",
    "f = \"Madhav Lekkala\"\n",
    "print(f.index(\"ekk\"))\n",
    "\n",
    "#replace function: it replace the substring to another substring\n",
    "print(f.replace(\"Madhav\",\"My name's MANOHAR\"))"
   ]
  },
  {
   "cell_type": "code",
   "execution_count": 8,
   "metadata": {},
   "outputs": [
    {
     "name": "stdout",
     "output_type": "stream",
     "text": [
      "115.46400000000003\n",
      "5.4\n",
      "3532.8441959815964\n",
      "6\n"
     ]
    }
   ],
   "source": [
    "# Numbers\n",
    "num = 5.4\n",
    "print((num**3)+23-65)\n",
    "# absolute value\n",
    "print(abs(num))\n",
    "print(pow(41,2.2)) # pow function can be used for power b/w two numbers\n",
    "#min and max functions can be used to differentiate bw values\n",
    "# round function is for rounding the number\n",
    "\n",
    "print(round(5.5)) # round() rounds of float values(into an integer)"
   ]
  },
  {
   "cell_type": "code",
   "execution_count": 6,
   "metadata": {},
   "outputs": [
    {
     "name": "stdout",
     "output_type": "stream",
     "text": [
      "5\n",
      "9\n",
      "4.3977266854592045\n"
     ]
    }
   ],
   "source": [
    "from math import * \n",
    "\n",
    "# floor function is for to remove the decimal part\n",
    "\n",
    "print(floor(num))\n",
    "\n",
    "i = 8.99765\n",
    "print(ceil(i)) # ceil function prints the integer next to the assigned data value\n",
    "\n",
    "print(sqrt(19.34)) # sqrt finds the square root of a data value\n"
   ]
  },
  {
   "cell_type": "code",
   "execution_count": null,
   "metadata": {},
   "outputs": [],
   "source": [
    "# input: we type a prompt inside the parenthesis \n",
    "#college = input(\"Enter ur college: \")\n",
    "#age = input(\"ur age: \")\n",
    "#print(\"My age is \"  + age +  \"And I am studying at \" + college + \".\" )\n",
    "\n",
    "# calculator\n",
    "num1 = input('Enter the first:')\n",
    "num2 = input('Enter the second:')\n",
    "add = float(num1)+float(num2)\n",
    "prod =  float(num1)*float(num2)\n",
    "print(\"The sum is : \" + add + \" the product is : \" + prod + \".\")"
   ]
  },
  {
   "cell_type": "code",
   "execution_count": 8,
   "metadata": {},
   "outputs": [
    {
     "name": "stdout",
     "output_type": "stream",
     "text": [
      "2\n"
     ]
    },
    {
     "data": {
      "text/plain": [
       "[2, 'Penny']"
      ]
     },
     "execution_count": 8,
     "metadata": {},
     "output_type": "execute_result"
    }
   ],
   "source": [
    "# Lists : It is a datatype where we can store lots of datavalues in the single list\n",
    "tbbt = ['Sheldon',2,'Penny']\n",
    "print(tbbt[-2])\n",
    "tbbt[1:3]"
   ]
  },
  {
   "cell_type": "code",
   "execution_count": 10,
   "metadata": {},
   "outputs": [
    {
     "name": "stdout",
     "output_type": "stream",
     "text": [
      "[1, 2, 3, 21]\n",
      "[1, 2, 3, 21]\n",
      "[21, 3, 2, 1]\n",
      "['Leonard', 'Penny', 'Sheldon', 'raj', 'Howy']\n"
     ]
    }
   ],
   "source": [
    "# List functions: a list takes bunch of values organize them and store them.\n",
    "# Extend function allows one list to combine/append with another list\n",
    "tbbt = ['Sheldon','Leonard','Penny']\n",
    "num = [1,2,3]\n",
    "tbbt.append(\"raj\") #append adds a datavalue to the list and \"remove\"/clear removes a datavalue\n",
    "tbbt\n",
    "num.insert(5,21) # inserting 5,21 in number list\n",
    "print(num)\n",
    "tbbt.sort() # here it is sorting from ascending to descending\n",
    "tbbt\n",
    "num.sort()\n",
    "print(num)\n",
    "num.reverse()\n",
    "print(num)\n",
    "friends = tbbt.copy()\n",
    "friends.append(\"Howy\")\n",
    "print(friends)"
   ]
  },
  {
   "cell_type": "code",
   "execution_count": 14,
   "metadata": {},
   "outputs": [
    {
     "name": "stdout",
     "output_type": "stream",
     "text": [
      "4\n",
      "[(2, 3.5), (2, 3, 4)]\n"
     ]
    }
   ],
   "source": [
    "#Tuples : It is a container where we can store values which is similar to lists where it has some differences with lists\n",
    "#we use sq. brackets for lists and normal brackets for lists\n",
    "coord = (4,5,6.2)\n",
    "coord\n",
    "print(coord[0])\n",
    "# Tuples are immutable i.e it cannot be changed or modified(no add or changing the values)\n",
    "# we cannot add any element to the tuples the difference b/w lists and tuples is modifications\n",
    "\n",
    "direct = [(2,3.5),(2,3,4)] # we can create a list by a group of tuples\n",
    "print(direct)"
   ]
  },
  {
   "cell_type": "code",
   "execution_count": 37,
   "metadata": {},
   "outputs": [
    {
     "name": "stdout",
     "output_type": "stream",
     "text": [
      "16247.55859375\n"
     ]
    }
   ],
   "source": [
    "# return statement : \n",
    "def fourth(a):\n",
    "  return a**2*(a*(a+3))**3  # here fourth is a function where we are giving a calculation in the return statement where the v\n",
    "                            # stored in the function substitutes itself in the value defined  \n",
    "    \n",
    "print(fourth(2.5))\n",
    "# we got none because after executing the above part because we didn't use return function\n",
    "# return statement get information back from a function\n"
   ]
  },
  {
   "cell_type": "code",
   "execution_count": 27,
   "metadata": {},
   "outputs": [
    {
     "name": "stdout",
     "output_type": "stream",
     "text": [
      "Hi Manny 102118034M\n",
      "Man\n",
      "Hi Manny 102118342F\n",
      "Man\n",
      "Women\n"
     ]
    }
   ],
   "source": [
    "# Functions : It is a collection of code which performs a particular task, \n",
    "# to create a function we can give a descriptive name and after defining the function it must be indentation level\n",
    "\n",
    "def hello(roll,gender):\n",
    "    print(\"Hi Manny \" +  roll  + gender) # we are appending number of functions\n",
    "    print(\"Man\")\n",
    "\n",
    "    # we have to call a function inorder to execute the code inside the function\n",
    "# here we don't get any output which gives a default output we have to specify it\n",
    "\n",
    "hello(\"102118034\",\"M\")\n",
    "hello(\"102118342\",\"F\")\n",
    "\n",
    "print(\"Women\")\n",
    "# here we are calling the function inorder to execute it\n",
    "# NOTE : We have to use all small letters(lower case) to define a function and we have to use underscore if we use two more words\n",
    "# parameter : it is a piece a information which we give a function "
   ]
  },
  {
   "cell_type": "code",
   "execution_count": 17,
   "metadata": {},
   "outputs": [
    {
     "name": "stdout",
     "output_type": "stream",
     "text": [
      " The value of a is 7275.282870603023\n"
     ]
    }
   ],
   "source": [
    "# Mapping functions\n",
    "\n",
    "def function1(x):\n",
    "    return x**x\n",
    "a = function1(5.32)\n",
    "print(\" The value of a is\",a)\n"
   ]
  },
  {
   "cell_type": "code",
   "execution_count": 18,
   "metadata": {},
   "outputs": [
    {
     "name": "stdout",
     "output_type": "stream",
     "text": [
      "Manohar\n",
      "Lekkala\n",
      "Manohar\n",
      "Lekkala\n",
      "Madhav\n",
      "Lekkala\n",
      "Madhav\n",
      "Lekkala\n",
      "Madhav\n",
      "Lekkala\n"
     ]
    }
   ],
   "source": [
    "# Defining function multiple times\n",
    "\n",
    "def function():\n",
    "    print('Manohar')\n",
    "    print(\"Lekkala\")\n",
    "function()\n",
    "function() # if we write function() n times the loop will be repeated n times\n",
    "\n",
    "def function1():\n",
    "    print(\"Madhav\")\n",
    "    print('Lekkala')\n",
    "function1()\n",
    "function1()\n",
    "function1()"
   ]
  },
  {
   "cell_type": "code",
   "execution_count": 9,
   "metadata": {},
   "outputs": [
    {
     "name": "stdout",
     "output_type": "stream",
     "text": [
      "2.485490946599227\n",
      "4.923136192476419\n",
      "8.295326034274922\n"
     ]
    }
   ],
   "source": [
    "def function3(miles):\n",
    "    return miles/1.60934\n",
    "a = function3(4)\n",
    "b = function3(7.923) # km to miles\n",
    "c = function3(11.23+2.12)\n",
    "print(a)\n",
    "print(b) # here we are converting kilometers into miles \n",
    "print(c)"
   ]
  },
  {
   "cell_type": "code",
   "execution_count": 48,
   "metadata": {},
   "outputs": [
    {
     "name": "stdout",
     "output_type": "stream",
     "text": [
      "Tara\n"
     ]
    }
   ],
   "source": [
    "# If statements : We can help our programs to make decisions\n",
    "# based on the data our data is going to respond according to the condition which we give\n",
    "name  = False\n",
    "tall = True\n",
    "if name and tall:\n",
    "    print('Manohar')\n",
    "elif name and not tall: # it should check whether it is true\n",
    "    print(\"Tunuk\")\n",
    "elif tall and not(name):\n",
    "    print(\"Tara\")\n",
    "else:\n",
    "    print(1)\n",
    "# here it is checking both conditions and giving an output according to the condition \n"
   ]
  },
  {
   "cell_type": "code",
   "execution_count": 22,
   "metadata": {},
   "outputs": [
    {
     "name": "stdout",
     "output_type": "stream",
     "text": [
      "3\n"
     ]
    }
   ],
   "source": [
    "# If statements and comparisions : .\n",
    "def min_num(a,b,c):\n",
    "    if a >= b and a <= c:\n",
    "        return c\n",
    "    elif a >= c and b >= a:\n",
    "        return b                 # here we are finding minimum of three numbers\n",
    "    else:\n",
    "        return a\n",
    "print(min_num(3,41,32))\n",
    "   "
   ]
  },
  {
   "cell_type": "code",
   "execution_count": 57,
   "metadata": {},
   "outputs": [
    {
     "name": "stdout",
     "output_type": "stream",
     "text": [
      "Enter 1st:23.2\n",
      "Enter operator12.34\n",
      "Enter 2nd:2\n",
      "Invalid\n"
     ]
    }
   ],
   "source": [
    "# calculator \n",
    "num1 = float(input(\"Enter 1st:\"))\n",
    "op = input(\"Enter operator\")\n",
    "num2 = float(input(\"Enter 2nd:\"))\n",
    "\n",
    "if op == \"+\":\n",
    "    print(num1+num2)\n",
    "elif op == \"-\":\n",
    "    print(num1-num2)\n",
    "elif op == \"/\":\n",
    "    print(num1/num2)\n",
    "elif op == \"*\":\n",
    "    print(num1*num2)\n",
    "else:\n",
    "    print(\"Invalid\")"
   ]
  },
  {
   "cell_type": "code",
   "execution_count": 6,
   "metadata": {},
   "outputs": [
    {
     "name": "stdout",
     "output_type": "stream",
     "text": [
      "{'name': 'Manohar', 'roll': 102118034, 'branch': 'Chemical', 'college': 'NITT'}\n",
      "Manohar\n",
      "102118034\n"
     ]
    }
   ],
   "source": [
    "# Dictionaries : It is a structure where we can store info. called key value pairs\n",
    "# We refer the info. stored as key which uniquely identifies the info inside the key\n",
    "# in dictionaries we use curly brackets\n",
    "candidate = {\"name\":\"Manohar\",\"roll\":102118034, \"branch\":\"Chemical\",\"college\":\"NITT\"}\n",
    "print(candidate)\n",
    "print(candidate['name']) # we can print seperate values in dictionaries too\n",
    "# now shortcuts(functions) for dictionaries\n",
    "print(candidate.get(\"roll\")) # get function we can get a default value\n"
   ]
  },
  {
   "cell_type": "code",
   "execution_count": 8,
   "metadata": {},
   "outputs": [
    {
     "name": "stdout",
     "output_type": "stream",
     "text": [
      "Invalid\n"
     ]
    }
   ],
   "source": [
    "print(candidate.get(\"Man\")) # as there is no Man value in dictionary it produces a default value.\n",
    "print(candidate.get(\"Man\",'Invalid')) # if we print this we will get the second value(Invalid)\n"
   ]
  },
  {
   "cell_type": "code",
   "execution_count": 23,
   "metadata": {},
   "outputs": [
    {
     "name": "stdout",
     "output_type": "stream",
     "text": [
      "25\n",
      "27\n",
      "29\n",
      "31\n",
      "The above no.s are the result\n"
     ]
    }
   ],
   "source": [
    "# While loop :while loop is a control flow statement that executes a block of code at least once, and then either repeatedly executes the block, or stops executing it, depending on a given boolean condition\n",
    "i = 23 # it is going to execute the code repeatedly until the condition is satisfied\n",
    "while i<=30 :\n",
    "    i += 2\n",
    "    print(i)\n",
    "    \n",
    "print(\"The above no.s are the result\")\n",
    "\n",
    "    \n",
    "    "
   ]
  },
  {
   "cell_type": "code",
   "execution_count": 13,
   "metadata": {},
   "outputs": [
    {
     "name": "stdout",
     "output_type": "stream",
     "text": [
      "Enter ur guess : Madhav\n",
      "Enter ur guess : Venkat\n",
      "Enter ur guess : Manohar\n",
      "Winner!\n"
     ]
    }
   ],
   "source": [
    "# Guessing game : here we are giving a if condition and while loop until we get the ryt answer\n",
    "answer = \"Manohar\"\n",
    "guess = ''\n",
    "# we have to use multiple input statements\n",
    "while guess != answer:\n",
    "    guess = input(\"Enter ur guess : \")\n",
    "    \n",
    "print(\"Winner!\")\n"
   ]
  },
  {
   "cell_type": "code",
   "execution_count": 17,
   "metadata": {},
   "outputs": [
    {
     "name": "stdout",
     "output_type": "stream",
     "text": [
      "Enter ur guess : Mna\n",
      "Enter ur guess : man\n",
      "Enter ur guess : mnd\n",
      "Out of guesses, U lose\n"
     ]
    }
   ],
   "source": [
    "# guessing game within 3 tries\n",
    "answer = \"Manohar\"\n",
    "guess = ''\n",
    "guess_count = 0\n",
    "out_guesses = False\n",
    "guess_limit = 3\n",
    "while guess != answer and not(out_guesses) :\n",
    "    if guess_count < guess_limit:\n",
    "        guess = input(\"Enter ur guess : \")\n",
    "        guess_count +=1\n",
    "    else:\n",
    "        out_guesses = True\n",
    "if out_guesses:\n",
    "    print(\"Out of guesses, U lose\")\n",
    "else:\n",
    "    print(\"Winner!\")\n"
   ]
  },
  {
   "cell_type": "code",
   "execution_count": 11,
   "metadata": {},
   "outputs": [
    {
     "name": "stdout",
     "output_type": "stream",
     "text": [
      "M\n",
      "a\n",
      "n\n",
      "o\n",
      "h\n",
      "a\n",
      "r\n",
      "Chandler\n",
      "Mon\n",
      "Rach\n",
      "Ross\n",
      "3\n",
      "4\n",
      "5\n",
      "6\n",
      "7\n",
      "8\n",
      "9\n",
      "Chandler\n",
      "Mon\n",
      "Rach\n",
      "Ross\n"
     ]
    }
   ],
   "source": [
    "# for loop : A for loop is a repetition control structure that allows you to efficiently write a loop that needs to execute a specific number of times.\n",
    "# here we use a variable which represents different value for every loop\n",
    "for letter in \"Manohar\":\n",
    "    print(letter) # here we r looping every letter in the given string\n",
    "# array\n",
    "friends = [\"Chandler\",\"Mon\",\"Rach\",\"Ross\"]\n",
    "for name in friends:\n",
    "    print(name)\n",
    "    \n",
    "for index in range(3,10):\n",
    "    print(index)\n",
    "# to figure the length of the array we use\n",
    "len(friends)\n",
    "for index in range(len(friends)):\n",
    "    print(friends[index])\n"
   ]
  },
  {
   "cell_type": "code",
   "execution_count": 12,
   "metadata": {},
   "outputs": [
    {
     "name": "stdout",
     "output_type": "stream",
     "text": [
      "Not\n",
      "Not\n",
      "first\n",
      "Not\n",
      "Not\n",
      "second\n",
      "Not\n",
      "Not\n",
      "Not\n"
     ]
    }
   ],
   "source": [
    "for index in range(9):\n",
    "    if index == 2:\n",
    "        print(\"first\") # we printed \n",
    "    elif index == 5:\n",
    "        print(\"second\")\n",
    "    else:\n",
    "        print(\"Not\") \n",
    "        "
   ]
  },
  {
   "cell_type": "code",
   "execution_count": 22,
   "metadata": {},
   "outputs": [
    {
     "name": "stdout",
     "output_type": "stream",
     "text": [
      "81\n"
     ]
    }
   ],
   "source": [
    "# exponential function\n",
    "# print(12**3)\n",
    "\n",
    "def raise_to_power(base,power):\n",
    "    result = 1\n",
    "    for index in range(power):\n",
    "        result = result*base\n",
    "    return result\n",
    "\n",
    "print(raise_to_power(3,4))"
   ]
  },
  {
   "cell_type": "code",
   "execution_count": 32,
   "metadata": {},
   "outputs": [
    {
     "name": "stdout",
     "output_type": "stream",
     "text": [
      "13\n",
      "1\n",
      "[1, 2, 3, 4]\n",
      "2\n",
      "[1, 2, 3, 4]\n",
      "3\n",
      "[1, 2, 3, 4]\n",
      "4\n",
      "[1, 2, 3, 4]\n",
      "5\n",
      "[5, 6, 7]\n",
      "6\n",
      "[5, 6, 7]\n",
      "7\n",
      "[5, 6, 7]\n",
      "8\n",
      "[8, 9, 10]\n",
      "9\n",
      "[8, 9, 10]\n",
      "10\n",
      "[8, 9, 10]\n",
      "11\n",
      "[11, 12, 13]\n",
      "12\n",
      "[11, 12, 13]\n",
      "13\n",
      "[11, 12, 13]\n"
     ]
    }
   ],
   "source": [
    "# 2-D Lists, Nested loops\n",
    "# \n",
    "number = [\n",
    "    [1,2,3,4],\n",
    "    [5,6,7],\n",
    "    [8,9,10],\n",
    "    [11,12,13]\n",
    "]\n",
    "print(number[3][2]) # nested for loop is a loop where we have for loop inside a for loop\n",
    "\n",
    "for row in number:\n",
    "   for col in row:\n",
    "    print(col) # we can print all the elements in a row\n",
    "    \n",
    "    print(row)"
   ]
  },
  {
   "cell_type": "code",
   "execution_count": 36,
   "metadata": {},
   "outputs": [
    {
     "name": "stdout",
     "output_type": "stream",
     "text": [
      "Enter:a\n",
      "invalid\n"
     ]
    }
   ],
   "source": [
    "# try except\n",
    "# we can use try and except when we don't want to produce an error for any kind of input\n",
    "try:\n",
    "    num = int(input(\"Enter:\"))\n",
    "    print(num)\n",
    "except ZeroDivisionError as err:\n",
    "    print(\"err\")\n",
    "except ValueError:\n",
    "    print(\"invalid\")\n",
    "    "
   ]
  },
  {
   "cell_type": "code",
   "execution_count": 35,
   "metadata": {},
   "outputs": [
    {
     "name": "stdout",
     "output_type": "stream",
     "text": [
      "True\n",
      "My plan for DS interview\n",
      "1. Do basic projects and upload in github\n",
      "2. Learn theoretical concepts of Python,Libraries and Machine Learning\n",
      "(sir material, tutorialspoint and youtube)\n",
      "3. IMP : Do PUZZLES, GUESSTIMATES, CASE STUDIES EVERYDAY!!!!!\n",
      "4. Try to do as many projects and create more prediction models from\n",
      "both python and ML with better accurate solutions\n",
      "\n",
      "\n",
      "\n",
      "\n",
      "KEN JEE:\n",
      "\n",
      "Data Science Project :\n",
      "1st : Look into data and create your own problem\n",
      "or If you planned the question try to produce better solution\n",
      "2nd Try to check out both Kaggle and Google datasets which are trending(less viewed and recently uploaded)\n",
      "or Make ur own data and do the analysis (which is a better idea)\n",
      "\n",
      "Go to kaggle and open your favourite dataset which you like  \n",
      "and open it and download the data\n",
      "\n",
      "If u want to create ur own problem and collect ur own data and scrape it...\n",
      "project ideas : subject related(chemical is better) or more audience  \n",
      "1. chemical or biology\n",
      "2. carrer, resume, types of job positions\n",
      "3. pandemic\n",
      "2. data science : salary(predict salary based on job title,info,geography)\n",
      "\n",
      "DATA Collection :\n",
      "use colab,jupyter for writing the code\n",
      "Check data for linkedin,glassdoor\n",
      "Now if u open Linkedin jobs open a job description and right click and click inspect \n",
      "and understand the code(it is Javascript)\n",
      "In glassdoor we can check jobs and salaries\n",
      "We create a glassdoor prediction engine using job description\n",
      "Now create a github repo\n",
      "Open mingw prompt create a folder in documents\n",
      "type (cd Documents/) enter\n",
      "mkdir d_salary_proj\n",
      "cd d_salary_proj\n",
      "git init\n",
      "then link with the github repo (open github and create a new repo and fill out the info)\n",
      "\n",
      "scraping data : selenium or beautifulsoup(it pulls the data in html organizes it) and selenium(a bot that clicks on elements and organize the data)\n",
      "\n",
      "glassdoor scraper selenium/beautifulsoup \n",
      "\n",
      "\n",
      "\n",
      "\n",
      "\n"
     ]
    }
   ],
   "source": [
    "# open files\n",
    "file = open(\"ds_proj.txt\")\n",
    "print(file.readable())\n",
    "print(file.read())\n",
    " # We will get a true or false as an output whether the file we mentioned is readable or not...fyi: please enter your own text file\n",
    "\n"
   ]
  },
  {
   "cell_type": "code",
   "execution_count": null,
   "metadata": {},
   "outputs": [],
   "source": [
    "# classes & objects\n",
    "\"\"\" classes :  we can create our own datatype where we can store information in that datatype\n",
    "\"\"\""
   ]
  },
  {
   "cell_type": "code",
   "execution_count": 28,
   "metadata": {},
   "outputs": [],
   "source": [
    "# inside a class we can define a bunch of attributes like strings, boolean, int\n",
    "# NOTE : Create a file and then create a class in it and work it out\n",
    "# for this input we will get an error because we didn't create a file here\n",
    "class student :\n",
    "    \n",
    "    def __init__(self, roll, gender, cgpa, probation): # here we are defining the class using attributes\n",
    "        self.roll = roll # here the actual objects roll is the actual roll we are passing\n",
    "        self.gender = gender \n",
    "        self.cgpa = cgpa\n",
    "        self.probation = probation\n",
    "    def honor_roll(self):\n",
    "        if self.cgpa >= 8.5:\n",
    "             return True\n",
    "        else:\n",
    "            return False\n",
    "            \n",
    "             \n",
    " # an object is an actual class(student) we are representing        \n",
    "# here the class is being called due to the init function"
   ]
  },
  {
   "cell_type": "code",
   "execution_count": 30,
   "metadata": {},
   "outputs": [
    {
     "name": "stdout",
     "output_type": "stream",
     "text": [
      "34\n",
      "8.25\n",
      "False\n",
      "True\n"
     ]
    }
   ],
   "source": [
    " # here create a py file called student and run the above code and then write the below code to work properly \n",
    "student1 = student(34,\"M\",9.2,False)\n",
    "student2 = student(33,\"F\",8.25,True)\n",
    "\n",
    "print(student1.roll)\n",
    "print(student2.cgpa)\n",
    "print(student1.probation)\n",
    "print(student1.honor_roll())\n"
   ]
  },
  {
   "cell_type": "code",
   "execution_count": 33,
   "metadata": {},
   "outputs": [],
   "source": [
    "# Inheritance : we can define bunch of attributes in a class and we can create another class and can inherit those attributes to this class\n",
    "\n",
    "class Subject:\n",
    "    \n",
    "    def maths(self):\n",
    "        print(\"The subject is Maths\")\n",
    "    def science(self):\n",
    "        print(\"The subject is Science\")\n",
    "    def english(self):\n",
    "        print(\"The subject is English\")"
   ]
  },
  {
   "cell_type": "code",
   "execution_count": 35,
   "metadata": {},
   "outputs": [
    {
     "name": "stdout",
     "output_type": "stream",
     "text": [
      "The subject is Maths\n"
     ]
    }
   ],
   "source": [
    "my_sub = Subject()\n",
    "my_sub.maths() "
   ]
  },
  {
   "cell_type": "code",
   "execution_count": 37,
   "metadata": {},
   "outputs": [
    {
     "name": "stdout",
     "output_type": "stream",
     "text": [
      "The subject is Science\n",
      "The honors is hard\n"
     ]
    }
   ],
   "source": [
    "# another class\n",
    "class Honors:\n",
    "    def maths(self):\n",
    "        print(\"The subject is Maths\")\n",
    "    def science(self):\n",
    "        print(\"The subject is Science\")\n",
    "    def english(self):\n",
    "        print(\"The subject is English\")\n",
    "    def honor(self):\n",
    "        print(\"The honors is hard\")\n",
    "mine= Honors()\n",
    "my_sub.science()\n",
    "mine.honor()"
   ]
  },
  {
   "cell_type": "code",
   "execution_count": null,
   "metadata": {},
   "outputs": [],
   "source": [
    "# I have written the basic code and gave some definitions and pointers. I hope you find it useful\n",
    "# THANK YOU "
   ]
  }
 ],
 "metadata": {
  "kernelspec": {
   "display_name": "Python 3",
   "language": "python",
   "name": "python3"
  },
  "language_info": {
   "codemirror_mode": {
    "name": "ipython",
    "version": 3
   },
   "file_extension": ".py",
   "mimetype": "text/x-python",
   "name": "python",
   "nbconvert_exporter": "python",
   "pygments_lexer": "ipython3",
   "version": "3.8.8"
  }
 },
 "nbformat": 4,
 "nbformat_minor": 4
}
